{
 "cells": [
  {
   "cell_type": "markdown",
   "metadata": {},
   "source": [
    "# Método de bisección\n",
    "\n",
    "# se escoge un intervalo $[a, b]$ donde $f(a)*f(b) < 0 $\n",
    "\n",
    "# punto medio        $ \\, \\,   c =\\dfrac{a+b}{2} $\n",
    " \n",
    "\n",
    "# casos:\n",
    "\n",
    "# 1. $f(c) = 0$,   $ \\, \\, \\, c$ es la raız buscada \n",
    "\n",
    "# 2. $f(a)*f(c) > 0$, el cambio de signo se produce en el intervalo $[c, b]$.\n",
    "\n",
    "# 3. $f(a)*f(c) < 0$,  el cambio de signo se produce en el intervalo $[a, c]$.\n",
    "\n"
   ]
  },
  {
   "cell_type": "code",
   "execution_count": 1,
   "metadata": {},
   "outputs": [
    {
     "data": {
      "image/png": "[encoded data removed]",
      "text/plain": [
       "<Figure size 432x288 with 1 Axes>"
      ]
     },
     "metadata": {
      "needs_background": "light"
     },
     "output_type": "display_data"
    },
    {
     "name": "stdout",
     "output_type": "stream",
     "text": [
      "Ingresa el intervalo inferior: 12\n",
      "Ingresa el intervalo superior: 16\n",
      "\n",
      "         a                   b                   c                 f(c)\n",
      "        \n",
      "     12.000000           16.000000           14.000000            1.610979      \n",
      "     14.000000           16.000000           15.000000           -0.384582      \n",
      "     14.000000           15.000000           14.500000            0.593568      \n",
      "     14.500000           15.000000           14.750000            0.099703      \n",
      "     14.750000           15.000000           14.875000           -0.143623      \n",
      "     14.750000           14.875000           14.812500           -0.022258      \n",
      "     14.750000           14.812500           14.781250            0.038648      \n",
      "     14.781250           14.812500           14.796875            0.008176      \n",
      "     14.796875           14.812500           14.804688           -0.007045      \n",
      "     14.796875           14.804688           14.800781            0.000564      \n",
      "     14.800781           14.804688           14.802734           -0.003241      \n",
      "     14.800781           14.802734           14.801758           -0.001338      \n",
      "     14.800781           14.801758           14.801270           -0.000387      \n",
      "     14.800781           14.801270           14.801025            0.000089      \n",
      "     14.801025           14.801270           14.801147           -0.000149      \n",
      "     14.801025           14.801147           14.801086           -0.000030      \n",
      "     14.801025           14.801086           14.801056            0.000029      \n",
      "     14.801056           14.801086           14.801071           -0.000000      \n",
      "     14.801056           14.801071           14.801064            0.000014      \n",
      "\n",
      "El cero esta en:  14.801067352294922\n"
     ]
    }
   ],
   "source": [
    "from math import e\n",
    "import matplotlib.pyplot as plt\n",
    "import numpy as np\n",
    "\n",
    "# problema del libro Chapra-Canales 7ma Edicion pg.99\n",
    "def f(x):\n",
    "    \n",
    "    return (668.06/x) * (1- e**(-0.146842*x)) -40\n",
    "\n",
    "v = [5,20,-5,40]\n",
    "x = np.linspace(-10, 30, 500)\n",
    "\n",
    "plt.plot(x,f(x))\n",
    "\n",
    "plt.xlabel(\"valores de x\")\n",
    "plt.ylabel(r'$f(c)$')\n",
    "plt.title('Grafica de $f(c)$') \n",
    "plt.grid()\n",
    "plt.axis(v)\n",
    "plt.axhline(0,color=\"b\",lw=2)\n",
    "\n",
    "plt.show()\n",
    "\n",
    "\n",
    "a = float(input(\"Ingresa el intervalo inferior: \"))\n",
    "b = float(input(\"Ingresa el intervalo superior: \"))\n",
    "\n",
    "if f(a) * f(b) < 0 and b - a > 0:\n",
    "    \n",
    "    def biseccion(a ,b, epsilon):\n",
    "        \n",
    "        print( \"\\n{:^20}{:^20}{:^20}{:^20}\".format(\"a\",\"b\",\"c\",'f(c)\\n'))\n",
    "        \n",
    "        c = (a + b ) / 2\n",
    "        \n",
    "        while f(c) != 0 and b - a > epsilon:\n",
    "            \n",
    "            print( \"{:^20.6f}{:^20.6f}{:^20.6f}{:^20.6f}\".format( a, b, c, f(c) ))\n",
    "            \n",
    "            if f(a) * f(c) > 0:\n",
    "                \n",
    "                a = c\n",
    "            \n",
    "            else:\n",
    "                b = c\n",
    "                \n",
    "            c = (a + b ) / 2\n",
    "            \n",
    "        return c\n",
    "    \n",
    "    print(\"\\nEl cero esta en: \", biseccion(a,b,1e-5))\n",
    "\n",
    "else:\n",
    "    \n",
    "    print(\"No hay cambio de signo en el intervalo revise la grafica\")\n",
    "       \n",
    "    "
   ]
  },
  {
   "cell_type": "code",
   "execution_count": null,
   "metadata": {},
   "outputs": [],
   "source": []
  }
 ],
 "metadata": {
  "kernelspec": {
   "display_name": "Python 3",
   "language": "python",
   "name": "python3"
  },
  "language_info": {
   "codemirror_mode": {
    "name": "ipython",
    "version": 3
   },
   "file_extension": ".py",
   "mimetype": "text/x-python",
   "name": "python",
   "nbconvert_exporter": "python",
   "pygments_lexer": "ipython3",
   "version": "3.7.6"
  }
 },
 "nbformat": 4,
 "nbformat_minor": 4
}
